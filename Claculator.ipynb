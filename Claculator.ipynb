{
 "cells": [
  {
   "cell_type": "code",
   "execution_count": 10,
   "id": "b0d4cfd1-8494-4189-9848-b89d69f52f70",
   "metadata": {},
   "outputs": [
    {
     "name": "stdout",
     "output_type": "stream",
     "text": [
      "calculator\n",
      "perform operation\n",
      "1.Add\n",
      "2.Subtract\n",
      "1.Multiply\n",
      "2.Divide\n",
      "0. Exit\n"
     ]
    },
    {
     "name": "stdin",
     "output_type": "stream",
     "text": [
      "Enter operation you want to perform: 1\n",
      "Enter the first number: 2\n",
      "Enter the second number: 3\n"
     ]
    },
    {
     "name": "stdout",
     "output_type": "stream",
     "text": [
      "the sum of2 and 3 is 5\n"
     ]
    },
    {
     "name": "stdin",
     "output_type": "stream",
     "text": [
      "Enter operation you want to perform: 0\n"
     ]
    }
   ],
   "source": [
    "def sum(a,b):\n",
    "    return(a+b) \n",
    "def sub(a,b): \n",
    "    return (a-b) \n",
    "def mul(a,b): \n",
    "    return(a*b) \n",
    "def div(a,b): \n",
    "    return(a/b) \n",
    "def mod(a,b): \n",
    "    return(a%b)\n",
    "\n",
    "print(\"calculator\")\n",
    "print(\"perform operation\")\n",
    "print(\"1.Add\") \n",
    "print(\"2.Subtract\") \n",
    "print(\"1.Multiply\") \n",
    "print(\"2.Divide\")\n",
    "print (\"0. Exit\")\n",
    "    \n",
    "while True:   \n",
    "    choice=int(input(\"Enter operation you want to perform:\"))\n",
    "    if choice==1:\n",
    "        a=int(input(\"Enter the first number:\"))\n",
    "        b=int(input(\"Enter the second number:\"))\n",
    "        print(f\"the sum of{a} and {b} is {sum(a,b)}\")\n",
    "    elif choice==2:\n",
    "        a=int(input(\"Enter the first number:\"))\n",
    "        b=int(input(\"Enter the second number:\"))\n",
    "        print(f\"the sub of{a} and {b} is {sub(a,b)}\")\n",
    "    elif choice==3:\n",
    "        a=int(input(\"Enter the first number:\"))\n",
    "        b=int(input(\"Enter the second number:\"))\n",
    "        print(f\"the mul of{a} and {b} is {mul(a,b)}\")\n",
    "    elif choice==4:\n",
    "        a=int(input(\"Enter the first number:\"))\n",
    "        b=int(input(\"Enter the second number:\"))\n",
    "        print(f\"the div of{a} and {b} is {div(a,b)}\")\n",
    "    elif choice==0:\n",
    "        break;\n",
    "\n"
   ]
  },
  {
   "cell_type": "markdown",
   "id": "b5a4167d-1d53-45a9-85ee-2587fe4796eb",
   "metadata": {},
   "source": [
    "# "
   ]
  }
 ],
 "metadata": {
  "kernelspec": {
   "display_name": "Python 3 (ipykernel)",
   "language": "python",
   "name": "python3"
  },
  "language_info": {
   "codemirror_mode": {
    "name": "ipython",
    "version": 3
   },
   "file_extension": ".py",
   "mimetype": "text/x-python",
   "name": "python",
   "nbconvert_exporter": "python",
   "pygments_lexer": "ipython3",
   "version": "3.12.4"
  }
 },
 "nbformat": 4,
 "nbformat_minor": 5
}
